{
 "cells": [
  {
   "cell_type": "markdown",
   "id": "bf14140a",
   "metadata": {},
   "source": [
    "# Intro to HTML"
   ]
  },
  {
   "cell_type": "markdown",
   "id": "57916e39",
   "metadata": {},
   "source": [
    "## HTML defined\n",
    "\n",
    "**HTML** - Hypertext Markup Language - This is the langauge used to describe your content. \n",
    "\n",
    "**CSS** - Castcatting Style Sheets. - This is the langauage is used to desging your content on the web.\n",
    "\n",
    "**Javascript** - NOT to be confused with java. - JS is used to add interactivity to web pages.\n",
    "\n",
    "### These are the three main web langauges"
   ]
  },
  {
   "cell_type": "markdown",
   "id": "452512f9",
   "metadata": {},
   "source": [
    "### Web browsers\n",
    "\n",
    "* Software used for browsing, reading, and translating web doucments.\n",
    "* Examples of web browsers \n",
    "     * Google Chrome\n",
    "     * Firefox\n",
    "     * Safri\n",
    "     * Microsoft Edge\n",
    "     * Opera GX\n",
    "     * Duck Duck Go\n",
    "     * Brave\n",
    "     * Internet Explorer - depricated\n",
    "     * Netscape - deprecated\n",
    "* Why you do you not use old or UN - Updated browsers.\n",
    "     * security - Security updates\n"
   ]
  },
  {
   "cell_type": "markdown",
   "id": "132df80d",
   "metadata": {},
   "source": [
    "### HTML skeleton/structure\n",
    "\n",
    "#### See index.html in this folder\n",
    "\n",
    "### Structure of an HTML Tag:\n",
    "\n",
    "<meta charset=\"UTF-8\"> \n",
    "Tag name attruibutes(s)\n",
    "Attruibite Values"
   ]
  },
  {
   "cell_type": "markdown",
   "id": "0f4ffc29",
   "metadata": {},
   "source": [
    "### Key concepts of Html\n",
    "\n",
    "* Most Html tags have an opening and closing\n",
    "* HTML Elements - these are created by a complete pair of tags with content\n",
    "* attributes - additonal information about the elements\n",
    "\n",
    "#### Essental html elements:\n",
    "\n",
    "* < h1 > through < h6 > - headings, H1 is the longest while h6 is the smallest has a closing tag\n",
    "* < p > - paragraphs element has a closing tag\n",
    "* < br > - Line Break"
   ]
  },
  {
   "cell_type": "code",
   "execution_count": null,
   "id": "b6eab65b",
   "metadata": {
    "vscode": {
     "languageId": "plaintext"
    }
   },
   "outputs": [],
   "source": []
  }
 ],
 "metadata": {
  "language_info": {
   "name": "python"
  }
 },
 "nbformat": 4,
 "nbformat_minor": 5
}
